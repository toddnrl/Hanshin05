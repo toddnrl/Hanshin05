{
 "cells": [
  {
   "cell_type": "code",
   "execution_count": 13,
   "id": "969d0784-6bd2-4ed3-8e85-d84f484a9c3c",
   "metadata": {},
   "outputs": [],
   "source": [
    "# 헤어컷 리스트\n",
    "hairstyles = [\"bouffant\", \"pixie\", \"dreadlocks\", \"crew\", \"bowl\", \"bob\", \"mohawk\", \"flattop\"]\n",
    "prices = [30, 25, 40, 20, 20, 35, 50, 35]\n",
    "last_week = [2, 3, 5, 8, 4, 4, 6, 2]"
   ]
  },
  {
   "cell_type": "code",
   "execution_count": 15,
   "id": "eae01372-9c39-48e3-83f0-9c4a0221438e",
   "metadata": {},
   "outputs": [
    {
     "name": "stdout",
     "output_type": "stream",
     "text": [
      "Average price is 31.875\n"
     ]
    }
   ],
   "source": [
    "# 헤어컷 가격 리스트\n",
    "prices = [30, 25, 40, 20, 20, 35, 50, 35]\n",
    "\n",
    "# 가격 총합을 계산\n",
    "total_price = 0\n",
    "for price in prices:\n",
    "    total_price += price\n",
    "\n",
    "# 평균 가격 계산\n",
    "average_price = total_price / len(prices)\n",
    "\n",
    "# 평균 가격 출력\n",
    "print(\"Average price is\", average_price)"
   ]
  },
  {
   "cell_type": "code",
   "execution_count": 17,
   "id": "60ff1563-4b99-431d-adf6-e71d087ba10e",
   "metadata": {},
   "outputs": [
    {
     "name": "stdout",
     "output_type": "stream",
     "text": [
      "[25, 20, 35, 15, 15, 30, 45, 30]\n"
     ]
    }
   ],
   "source": [
    "# 각 가격에서 5달러를 빼서 새로운 가격 리스트 만들기\n",
    "new_prices = [price - 5 for price in prices]\n",
    "\n",
    "# 새 가격 리스트 출력\n",
    "print(new_prices)"
   ]
  },
  {
   "cell_type": "code",
   "execution_count": 19,
   "id": "ad82e8de-8b63-4df0-9329-c9e13ae655ea",
   "metadata": {},
   "outputs": [
    {
     "name": "stdout",
     "output_type": "stream",
     "text": [
      "Total revenue is 1085\n"
     ]
    }
   ],
   "source": [
    "# 지난 주 구매 횟수 리스트\n",
    "last_week = [2, 3, 5, 8, 4, 4, 6, 2]\n",
    "\n",
    "# 총 수익 계산\n",
    "total_revenue = 0\n",
    "for i in range(len(prices)):\n",
    "    total_revenue += prices[i] * last_week[i]\n",
    "\n",
    "# 총 수익 출력\n",
    "print(\"Total revenue is\", total_revenue)"
   ]
  },
  {
   "cell_type": "code",
   "execution_count": 21,
   "id": "dad31e72-3cd1-486b-8bdf-4ffe7edaddd0",
   "metadata": {},
   "outputs": [
    {
     "name": "stdout",
     "output_type": "stream",
     "text": [
      "Average daily revenue is 155.0\n"
     ]
    }
   ],
   "source": [
    "# 평균 일일 수익 계산\n",
    "average_daily_revenue = total_revenue / 7\n",
    "\n",
    "# 평균 일일 수익 출력\n",
    "print(\"Average daily revenue is\", average_daily_revenue)"
   ]
  },
  {
   "cell_type": "code",
   "execution_count": 23,
   "id": "ae3190d4-db19-48aa-8577-589817e7bced",
   "metadata": {},
   "outputs": [
    {
     "name": "stdout",
     "output_type": "stream",
     "text": [
      "['bouffant', 'pixie', 'crew', 'bowl']\n"
     ]
    }
   ],
   "source": [
    "# 30달러 미만인 헤어컷 찾기\n",
    "cuts_under_30 = [hairstyles[i] for i in range(len(new_prices)) if new_prices[i] < 30]\n",
    "\n",
    "# 30달러 미만인 헤어컷 리스트 출력\n",
    "print(cuts_under_30)"
   ]
  }
 ],
 "metadata": {
  "kernelspec": {
   "display_name": "Python 3 (ipykernel)",
   "language": "python",
   "name": "python3"
  },
  "language_info": {
   "codemirror_mode": {
    "name": "ipython",
    "version": 3
   },
   "file_extension": ".py",
   "mimetype": "text/x-python",
   "name": "python",
   "nbconvert_exporter": "python",
   "pygments_lexer": "ipython3",
   "version": "3.12.4"
  }
 },
 "nbformat": 4,
 "nbformat_minor": 5
}

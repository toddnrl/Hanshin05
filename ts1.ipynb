{
 "cells": [
  {
   "cell_type": "code",
   "execution_count": 2,
   "id": "2ec36e48-b612-49e7-af83-82cb598d2b60",
   "metadata": {},
   "outputs": [],
   "source": [
    "# Lovely Loveseat의 설명을 변수에 저장\n",
    "lovely_loveseat_description = \"Lovely Loveseat. Tufted polyester blend on wood. 32 inches high x 40 inches wide x 30 inches deep. Red or white.\"\n",
    "\n",
    "# Lovely Loveseat의 가격을 변수에 저장\n",
    "lovely_loveseat_price = 254.00"
   ]
  },
  {
   "cell_type": "code",
   "execution_count": 4,
   "id": "08724bf3-93da-4039-abd8-515476696c72",
   "metadata": {},
   "outputs": [],
   "source": [
    "stylish_settee_description = \"Stylish Settee. Faux leather on birch. 29.50 inches high x 54.75 inches wide x 28 inches deep. Black.\""
   ]
  },
  {
   "cell_type": "code",
   "execution_count": 6,
   "id": "748b8a5e-b7c8-4df9-8e04-3b120de39f94",
   "metadata": {},
   "outputs": [],
   "source": [
    "# Stylish Settee의 가격을 변수에 저장\n",
    "stylish_settee_price = 180.50\n",
    "\n",
    "# Luxurious Lamp의 설명을 변수에 저장\n",
    "luxurious_lamp_description = \"Luxurious Lamp. Glass and iron. 36 inches tall. Brown with cream shade.\""
   ]
  },
  {
   "cell_type": "code",
   "execution_count": 8,
   "id": "020d4389-eab9-4ffc-a89e-a795224b0607",
   "metadata": {},
   "outputs": [],
   "source": [
    "# Luxurious Lamp의 가격을 변수에 저장\n",
    "luxurious_lamp_price = 52.15\n",
    "\n",
    "# 판매세를 변수에 저장\n",
    "sales_tax = 0.088  # 8.8%"
   ]
  },
  {
   "cell_type": "code",
   "execution_count": 10,
   "id": "bcd385dc-0e6c-42a5-95ed-c296a93e93ea",
   "metadata": {},
   "outputs": [],
   "source": [
    "# 첫 번째 고객의 총 구매 금액을 저장하는 변수 초기화\n",
    "customer_one_total = 0\n",
    "\n",
    "# 첫 번째 고객의 구매 품목 목록을 저장하는 변수 초기화\n",
    "customer_one_itemization = \"\"\n",
    "\n",
    "# 고객이 Lovely Loveseat를 구매하기로 결정했으므로 가격을 총 금액에 추가\n",
    "customer_one_total += lovely_loveseat_price\n",
    "\n",
    "# 고객의 구매 목록에 Lovely Loveseat의 설명 추가\n",
    "customer_one_itemization += lovely_loveseat_description"
   ]
  },
  {
   "cell_type": "code",
   "execution_count": 12,
   "id": "f8c468ea-d022-4321-8e31-31cff6d7dba8",
   "metadata": {},
   "outputs": [
    {
     "name": "stdout",
     "output_type": "stream",
     "text": [
      "Customer One Items:\n",
      "Lovely Loveseat. Tufted polyester blend on wood. 32 inches high x 40 inches wide x 30 inches deep. Red or white.\n",
      "Luxurious Lamp. Glass and iron. 36 inches tall. Brown with cream shade.\n",
      "\n",
      "Customer One Total:\n",
      "333.09119999999996\n"
     ]
    }
   ],
   "source": [
    "# 고객이 Luxurious Lamp를 구매하기로 결정했으므로 가격을 총 금액에 추가\n",
    "customer_one_total += luxurious_lamp_price\n",
    "\n",
    "# 고객의 구매 목록에 Luxurious Lamp의 설명 추가\n",
    "customer_one_itemization += \"\\n\" + luxurious_lamp_description\n",
    "\n",
    "# 판매세 계산\n",
    "customer_one_tax = customer_one_total * sales_tax\n",
    "\n",
    "# 판매세를 총 금액에 추가\n",
    "customer_one_total += customer_one_tax\n",
    "\n",
    "# 영수증 출력\n",
    "print(\"Customer One Items:\")\n",
    "print(customer_one_itemization)\n",
    "\n",
    "print(\"\\nCustomer One Total:\")\n",
    "print(customer_one_total)"
   ]
  }
 ],
 "metadata": {
  "kernelspec": {
   "display_name": "Python 3 (ipykernel)",
   "language": "python",
   "name": "python3"
  },
  "language_info": {
   "codemirror_mode": {
    "name": "ipython",
    "version": 3
   },
   "file_extension": ".py",
   "mimetype": "text/x-python",
   "name": "python",
   "nbconvert_exporter": "python",
   "pygments_lexer": "ipython3",
   "version": "3.12.4"
  }
 },
 "nbformat": 4,
 "nbformat_minor": 5
}

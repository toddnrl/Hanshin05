{
 "cells": [
  {
   "cell_type": "code",
   "execution_count": 6,
   "id": "59d377d9-16c7-4796-88ef-d699f40bf326",
   "metadata": {},
   "outputs": [],
   "source": [
    "def get_my_chosun_name(family_name, month, day):\n",
    "    # 태어난 달에 해당되는 첫번째 글자 리스트\n",
    "    month_list = ['쌍', '쇠', '복', '돌', '팽', '육', '쌍', '개', '칠', '갑', '삼', '방']\n",
    "    \n",
    "    # 태어난 날짜에 해당되는 두번째 글자 리스트\n",
    "    day_list = ['봉', '구', '욕', '포', '똥', '삼', '식', '석', '놈', '님', '년', '돌', '단', '득', '방', '질', '장', '걸', '래', '룡', '동', '순', '자', '박', '창', '언', '것', '포', '만', '단', '국']\n",
    "    \n",
    "    # 조선시대 이름 생성\n",
    "    first_name = month_list[month - 1]  # 달에 해당되는 첫번째 글자\n",
    "    second_name = day_list[day - 1]  # 날짜에 해당되는 두번째 글자\n",
    "    \n",
    "    # 조선시대 이름 출력\n",
    "    return family_name + first_name + second_name"
   ]
  },
  {
   "cell_type": "code",
   "execution_count": 10,
   "id": "a145e260-01e5-476a-a543-e0aa5c341d54",
   "metadata": {},
   "outputs": [
    {
     "name": "stdout",
     "output_type": "stream",
     "text": [
      "이팽욕\n"
     ]
    }
   ],
   "source": [
    "print(get_my_chosun_name('이', 5, 3))"
   ]
  }
 ],
 "metadata": {
  "kernelspec": {
   "display_name": "Python 3 (ipykernel)",
   "language": "python",
   "name": "python3"
  },
  "language_info": {
   "codemirror_mode": {
    "name": "ipython",
    "version": 3
   },
   "file_extension": ".py",
   "mimetype": "text/x-python",
   "name": "python",
   "nbconvert_exporter": "python",
   "pygments_lexer": "ipython3",
   "version": "3.12.4"
  }
 },
 "nbformat": 4,
 "nbformat_minor": 5
}

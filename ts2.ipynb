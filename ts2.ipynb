{
 "cells": [
  {
   "cell_type": "code",
   "execution_count": 21,
   "id": "8b918ada-1d3c-40e0-89fb-1dd26d95fec1",
   "metadata": {},
   "outputs": [
    {
     "name": "stdout",
     "output_type": "stream",
     "text": [
      "[['physics', 98], ['calculus', 97], ['poetry', 85], ['history', 88]]\n"
     ]
    }
   ],
   "source": [
    "# 과목 리스트 생성\n",
    "subjects = [\"physics\", \"calculus\", \"poetry\", \"history\"]\n",
    "\n",
    "# 점수 리스트 생성\n",
    "grades = [98, 97, 85, 88]\n",
    "\n",
    "# 과목과 점수를 매칭하여 2차원 리스트 생성\n",
    "gradebook = [\n",
    "    [\"physics\", 98],\n",
    "    [\"calculus\", 97],\n",
    "    [\"poetry\", 85],\n",
    "    [\"history\", 88]\n",
    "]\n",
    "\n",
    "# gradebook 출력\n",
    "print(gradebook)"
   ]
  },
  {
   "cell_type": "code",
   "execution_count": 23,
   "id": "121dc389-b42e-43eb-acf8-3703fa10b05d",
   "metadata": {},
   "outputs": [],
   "source": [
    "# gradebook 리스트 생성\n",
    "gradebook = [\n",
    "    [\"physics\", 98],\n",
    "    [\"calculus\", 97],\n",
    "    [\"poetry\", 85],\n",
    "    [\"history\", 88]\n",
    "]"
   ]
  },
  {
   "cell_type": "code",
   "execution_count": 8,
   "id": "8d6a6031-0ad0-479c-9164-267d1ebab70d",
   "metadata": {},
   "outputs": [],
   "source": [
    "# 1. 새 과목 추가: computer science와 visual arts\n",
    "gradebook.append([\"computer science\", 100])\n",
    "gradebook.append([\"visual arts\", 93])"
   ]
  },
  {
   "cell_type": "code",
   "execution_count": 10,
   "id": "6d7d5d3c-1125-47ff-95c7-dcfc7c11382f",
   "metadata": {},
   "outputs": [],
   "source": [
    "# 2. visual arts 점수 수정: 5점 더하기\n",
    "for item in gradebook:\n",
    "    if item[0] == \"visual arts\":\n",
    "        item[1] += 5"
   ]
  },
  {
   "cell_type": "code",
   "execution_count": 12,
   "id": "13e417b3-85ce-46e2-8ce5-ade76c1919bd",
   "metadata": {},
   "outputs": [],
   "source": [
    "# 3. poetry 과목 점수 삭제 후 Pass로 변경\n",
    "for item in gradebook:\n",
    "    if item[0] == \"poetry\":\n",
    "        item.remove(85)  # 기존 점수 제거\n",
    "        item.append(\"Pass\")  # \"Pass\" 추가"
   ]
  },
  {
   "cell_type": "code",
   "execution_count": 14,
   "id": "1ec3a724-fe30-4fdc-be0d-c7e12c0bd8af",
   "metadata": {},
   "outputs": [
    {
     "name": "stdout",
     "output_type": "stream",
     "text": [
      "[['physics', 98], ['calculus', 97], ['poetry', 'Pass'], ['history', 88], ['computer science', 100], ['visual arts', 98]]\n"
     ]
    }
   ],
   "source": [
    "# 수정된 gradebook 출력\n",
    "print(gradebook)"
   ]
  },
  {
   "cell_type": "code",
   "execution_count": 16,
   "id": "c2d7f1f5-e767-4e62-b04e-ea3c70de492c",
   "metadata": {},
   "outputs": [],
   "source": [
    "# 지난 학기의 성적 목록\n",
    "last_semester_gradebook = [[\"politics\", 80], [\"latin\", 96], [\"dance\", 97], [\"architecture\", 65]]\n",
    "\n",
    "# 이번 학기의 성적 목록\n",
    "gradebook = [\n",
    "    [\"physics\", 98],\n",
    "    [\"calculus\", 97],\n",
    "    [\"poetry\", \"Pass\"],\n",
    "    [\"history\", 88],\n",
    "    [\"computer science\", 100],\n",
    "    [\"visual arts\", 98]\n",
    "]"
   ]
  },
  {
   "cell_type": "code",
   "execution_count": 18,
   "id": "89ec8677-ec0c-4d00-9669-1d717e472190",
   "metadata": {},
   "outputs": [
    {
     "name": "stdout",
     "output_type": "stream",
     "text": [
      "[['politics', 80], ['latin', 96], ['dance', 97], ['architecture', 65], ['physics', 98], ['calculus', 97], ['poetry', 'Pass'], ['history', 88], ['computer science', 100], ['visual arts', 98]]\n"
     ]
    }
   ],
   "source": [
    "# 두 성적 목록을 합쳐서 전체 성적 목록 생성\n",
    "full_gradebook = last_semester_gradebook + gradebook\n",
    "\n",
    "# 전체 성적 목록 출력\n",
    "print(full_gradebook)"
   ]
  }
 ],
 "metadata": {
  "kernelspec": {
   "display_name": "Python 3 (ipykernel)",
   "language": "python",
   "name": "python3"
  },
  "language_info": {
   "codemirror_mode": {
    "name": "ipython",
    "version": 3
   },
   "file_extension": ".py",
   "mimetype": "text/x-python",
   "name": "python",
   "nbconvert_exporter": "python",
   "pygments_lexer": "ipython3",
   "version": "3.12.4"
  }
 },
 "nbformat": 4,
 "nbformat_minor": 5
}

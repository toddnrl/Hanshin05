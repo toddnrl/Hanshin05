{
 "cells": [
  {
   "cell_type": "code",
   "execution_count": 2,
   "id": "8c162e1d-a6aa-4a69-b774-58812f57736d",
   "metadata": {},
   "outputs": [],
   "source": [
    "import numpy as np  \n",
    "import matplotlib.pyplot as plt  \n",
    "from mpl_toolkits.axes_grid1 import make_axes_locatable"
   ]
  },
  {
   "cell_type": "code",
   "execution_count": 4,
   "id": "10916720-2d5f-4c91-a24a-d70af73e4bfc",
   "metadata": {},
   "outputs": [
    {
     "data": {
      "text/plain": [
       "<contextlib.ExitStack at 0x2124f8718b0>"
      ]
     },
     "execution_count": 4,
     "metadata": {},
     "output_type": "execute_result"
    }
   ],
   "source": [
    "%matplotlib qt5\n",
    "%config InlineBackend.figure_format = 'svg'\n",
    "\n",
    "plt.rcParams['figure.figsize'] = [12, 5]\n",
    "plt.rcParams['font.size'] = 13\n",
    "plt.ion()"
   ]
  },
  {
   "cell_type": "code",
   "execution_count": 6,
   "id": "86acd115-40ab-4160-8b3d-91c89b8d7888",
   "metadata": {},
   "outputs": [
    {
     "name": "stdout",
     "output_type": "stream",
     "text": [
      "f((1+2j)) = (-4+4j)\n"
     ]
    }
   ],
   "source": [
    "# 복소수 함수를 구현하는 함수\n",
    "def f(z):\n",
    "    return z**2 - 1\n",
    "\n",
    "# 예시로 복소수 1 + 2i를 입력받아서 함수 적용\n",
    "z = complex(1, 2)  # 1 + 2i 형태의 복소수\n",
    "result = f(z)\n",
    "\n",
    "print(f\"f({z}) = {result}\")"
   ]
  },
  {
   "cell_type": "code",
   "execution_count": 8,
   "id": "0a06f6d4-7932-4eec-8b31-e29bbc58da8b",
   "metadata": {},
   "outputs": [
    {
     "data": {
      "text/plain": [
       "-1"
      ]
     },
     "execution_count": 8,
     "metadata": {},
     "output_type": "execute_result"
    }
   ],
   "source": [
    "f(0)"
   ]
  },
  {
   "cell_type": "code",
   "execution_count": 14,
   "id": "4f9c2856-efd3-4b26-92bb-1f3912e2650b",
   "metadata": {},
   "outputs": [
    {
     "name": "stdout",
     "output_type": "stream",
     "text": [
      "[15.  +0.j  -0.04-0.4j  1.56+0.j ]\n"
     ]
    }
   ],
   "source": [
    "def f(z):\n",
    "    z = np.array(z)  # 입력값을 NumPy 배열로 변환\n",
    "    return np.square(z) - 1  # NumPy의 square() 함수로 제곱 후 1을 뺀 값 반환\n",
    "\n",
    "# 입력값으로 복소수 리스트를 받음\n",
    "z = [4, 1 - 0.2j, 1.6]\n",
    "result = f(z)\n",
    "\n",
    "print(result)"
   ]
  },
  {
   "cell_type": "code",
   "execution_count": 36,
   "id": "780d9760-8e28-4dfd-9914-9ad44c0aa8dd",
   "metadata": {},
   "outputs": [],
   "source": [
    "import numpy as np\n",
    "import matplotlib.pyplot as plt"
   ]
  },
  {
   "cell_type": "code",
   "execution_count": 38,
   "id": "6d9fd805-cae4-4cdf-ac9a-458a49847930",
   "metadata": {},
   "outputs": [],
   "source": [
    "# 복소수 함수 정의: f(z) = z^2 - 1\n",
    "def f(z):\n",
    "    return np.square(z) - 1"
   ]
  },
  {
   "cell_type": "code",
   "execution_count": 40,
   "id": "5d99483a-1b8f-4536-93ee-0f041a74bef3",
   "metadata": {},
   "outputs": [],
   "source": [
    "# x, y 값 집합 생성 (각각 -10에서 10까지 20개의 값)\n",
    "x = np.linspace(-10, 10, 20)\n",
    "y = np.linspace(-10, 10, 20)\n",
    "\n",
    "# meshgrid를 이용하여 2D 그리드 생성\n",
    "x, y = np.meshgrid(x, y)"
   ]
  },
  {
   "cell_type": "code",
   "execution_count": 42,
   "id": "28b525cf-fded-45e2-b613-716832b8dffb",
   "metadata": {},
   "outputs": [],
   "source": [
    "# 복소수 집합 생성 (x는 실수축, y는 허수축)\n",
    "mesh = x + 1j * y"
   ]
  },
  {
   "cell_type": "code",
   "execution_count": 44,
   "id": "1eb24206-f1fc-4527-9bc5-678a50318880",
   "metadata": {},
   "outputs": [],
   "source": [
    "# 함수 f(z) 적용 후 절대값 구하기\n",
    "output = np.abs(f(mesh))"
   ]
  },
  {
   "cell_type": "code",
   "execution_count": 46,
   "id": "1e73e288-86ac-4a75-8626-99e4d8fd5210",
   "metadata": {},
   "outputs": [],
   "source": [
    "fig = plt.figure()\n",
    "ax = plt.axes(projection='3d')\n",
    "\n",
    "ax.scatter(x, y, output, alpha=0.2)\n",
    "\n",
    "ax.set_xlabel('Real axis')      # 실수부\n",
    "ax.set_ylabel('Imaginary axis') # 허수부\n",
    "ax.set_zlabel('Absolute value') # 함수값의 절대값\n",
    "ax.set_title('One Iteration: $f(z) = z^2 - 1$');"
   ]
  },
  {
   "cell_type": "code",
   "execution_count": 48,
   "id": "d19e1a2b-65c3-4bc2-a1c6-61339cfeb796",
   "metadata": {},
   "outputs": [],
   "source": [
    "output = np.abs(f(f(mesh)))\n",
    "\n",
    "ax = plt.axes(projection='3d')\n",
    "\n",
    "ax.scatter(x, y, output, alpha=0.2)\n",
    "\n",
    "ax.set_xlabel('Real axis')\n",
    "ax.set_ylabel('Imaginary axis')\n",
    "ax.set_zlabel('Absolute value')\n",
    "ax.set_title('Two Iterations: $ f(z) = z^2 - 1$');"
   ]
  },
  {
   "cell_type": "code",
   "execution_count": 50,
   "id": "8efcc118-dec0-46ee-a3db-2fc633f33857",
   "metadata": {},
   "outputs": [],
   "source": [
    "selected_values = np.array([0.4 + 0.4j, 0.41 + 0.4j, 0.4 + 0.41j])\n",
    "num_iter = 9\n",
    "\n",
    "outputs = np.zeros(\n",
    "    (num_iter+1, selected_values.shape[0]),  # 10X3 Zero 배열 생성\n",
    "    dtype=complex  # 데이터 타입: 복소수\n",
    ")\n",
    "outputs[0] = selected_values   # 함수 초기 조건\n",
    "\n",
    "for i in range(num_iter):\n",
    "    outputs[i+1] = f(outputs[i])  # 10번 함수 반복하는 동안 각 결과를 저장\n",
    "\n",
    "fig, axes = plt.subplots(1, selected_values.shape[0], figsize=(16, 6))\n",
    "axes[1].set_xlabel('Real axis')\n",
    "axes[0].set_ylabel('Imaginary axis')\n",
    "\n",
    "for ax, data in zip(axes, outputs.T):\n",
    "    cycle = ax.scatter(\n",
    "        data.real,  # 실수부\n",
    "        data.imag,  # 허수부\n",
    "        c=range(data.shape[0]), \n",
    "        alpha=0.6\n",
    "    )\n",
    "    ax.set_title(f'Mapping of iterations on {data[0]}')\n",
    "\n",
    "fig.colorbar(cycle, ax=axes, location='bottom', label='Iteration');"
   ]
  },
  {
   "cell_type": "code",
   "execution_count": 52,
   "id": "2d09dc18-3047-441e-bbfe-1479f77a0519",
   "metadata": {},
   "outputs": [],
   "source": [
    "# divergence_rate 함수 구현\n",
    "def divergence_rate(mesh, num_iter=10, radius=2):\n",
    "    z = mesh.copy()  # 복소수 집합 복사\n",
    "    diverge_len = np.zeros(mesh.shape)  # 발산 전 반복 횟수 저장\n",
    "\n",
    "    # 발산되지 않은 값들에 대해 함수를 반복 적용\n",
    "    for i in range(num_iter):\n",
    "        # 1. Boolean 배열 마스크 생성\n",
    "        conv_mask = np.abs(z) < radius  # 절대값이 radius보다 작은 값들만 True\n",
    "\n",
    "        # 2. 해당 값들에 대한 diverge_len 값 증가\n",
    "        diverge_len[conv_mask] += 1  # True인 값에 대해서 반복 횟수 1 증가\n",
    "\n",
    "        # 3. 해당 값들에 대해 함수 적용\n",
    "        z[conv_mask] = f(z[conv_mask])  # 발산되지 않은 값들에 대해 f(z)를 적용\n",
    "\n",
    "    return diverge_len  # 발산 전 반복 횟수 배열 반환\n",
    "\n",
    "\n",
    "# 예시로 복소수 집합 생성\n",
    "x = np.linspace(-2, 2, 400)\n",
    "y = np.linspace(-2, 2, 400)\n",
    "x, y = np.meshgrid(x, y)\n",
    "mesh = x + 1j * y  # 복소수 집합 생성\n",
    "\n",
    "# divergence_rate 함수 호출\n",
    "diverge_len = divergence_rate(mesh, num_iter=50, radius=2)\n",
    "\n",
    "# 결과 시각화 (발산 전에 반복 횟수)\n",
    "import matplotlib.pyplot as plt\n",
    "plt.imshow(diverge_len, cmap='inferno', extent=(-2, 2, -2, 2), origin='lower')\n",
    "plt.colorbar()\n",
    "plt.title(\"Divergence Rate\")\n",
    "plt.xlabel(\"Real part\")\n",
    "plt.ylabel(\"Imaginary part\")\n",
    "plt.show()"
   ]
  }
 ],
 "metadata": {
  "kernelspec": {
   "display_name": "Python 3 (ipykernel)",
   "language": "python",
   "name": "python3"
  },
  "language_info": {
   "codemirror_mode": {
    "name": "ipython",
    "version": 3
   },
   "file_extension": ".py",
   "mimetype": "text/x-python",
   "name": "python",
   "nbconvert_exporter": "python",
   "pygments_lexer": "ipython3",
   "version": "3.12.4"
  }
 },
 "nbformat": 4,
 "nbformat_minor": 5
}
